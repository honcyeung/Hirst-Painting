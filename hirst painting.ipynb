{
 "cells": [
  {
   "cell_type": "code",
   "execution_count": null,
   "id": "8b676098",
   "metadata": {},
   "outputs": [],
   "source": [
    "import colorgram\n",
    "import turtle as t\n",
    "from random import choice\n",
    "\n",
    "rgb_colors = []\n",
    "colors = colorgram.extract('image.jpg', 30)\n",
    "\n",
    "for color in colors:\n",
    "    r = color.rgb.r\n",
    "    g = color.rgb.g\n",
    "    b = color.rgb.b\n",
    "    new_color = (r, g, b)\n",
    "    rgb_colors.append(new_color)\n",
    "\n",
    "t.colormode(255)\n",
    "tim = t.Turtle()\n",
    "tim.hideturtle()\n",
    "color_list = rgb_colors[3:]\n",
    "tim.speed('fastest')\n",
    "tim.penup()\n",
    "tim.setheading(0)\n",
    "tim.setpos((-250,-200))\n",
    "gap = 50\n",
    "dimension = 10\n",
    "\n",
    "for i in range(dimension):\n",
    "    \n",
    "    for _ in range(dimension):\n",
    "\n",
    "        tim.dot(20, choice(color_list))\n",
    "        tim.forward(gap)\n",
    "    \n",
    "    tim.setpos((-250,(i+1)*gap-200))\n",
    "    tim.setheading(0)"
   ]
  }
 ],
 "metadata": {
  "kernelspec": {
   "display_name": "Python 3",
   "language": "python",
   "name": "python3"
  },
  "language_info": {
   "codemirror_mode": {
    "name": "ipython",
    "version": 3
   },
   "file_extension": ".py",
   "mimetype": "text/x-python",
   "name": "python",
   "nbconvert_exporter": "python",
   "pygments_lexer": "ipython3",
   "version": "3.8.11"
  }
 },
 "nbformat": 4,
 "nbformat_minor": 5
}
